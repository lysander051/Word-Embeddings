{
 "cells": [
  {
   "cell_type": "code",
   "execution_count": null,
   "id": "a1882e56-dad8-4f4f-8724-c908d750a473",
   "metadata": {
    "tags": []
   },
   "outputs": [],
   "source": [
    "import utils as ut\n",
    "import sys\n",
    "sys.stderr = open('outputs', 'w')\n",
    "ens_size=10\n",
    "nb_run=5"
   ]
  },
  {
   "cell_type": "code",
   "execution_count": null,
   "id": "9df40ca0-f3d8-4be3-b307-874b3b7e3a35",
   "metadata": {
    "tags": []
   },
   "outputs": [],
   "source": [
    "ut.experiment_ecg('eu-core.gml', load_graph=ut.load_graph_local, ens_size=ens_size, nb_run=nb_run,directed=False)"
   ]
  },
  {
   "cell_type": "code",
   "execution_count": null,
   "id": "2dd4c2f0-316f-4cd7-9ca1-a16ec27e5c23",
   "metadata": {
    "tags": []
   },
   "outputs": [],
   "source": [
    "ut.experiment_ecg('eu-core.gml', load_graph=ut.load_graph_local, ens_size=ens_size, nb_run=nb_run, directed=True)"
   ]
  },
  {
   "cell_type": "code",
   "execution_count": null,
   "id": "29449d49-999a-40da-a4b8-702129b4bfc2",
   "metadata": {
    "tags": []
   },
   "outputs": [],
   "source": [
    "ut.compare_louvain('eu-core.gml', load_graph=ut.load_graph_local)"
   ]
  },
  {
   "cell_type": "code",
   "execution_count": null,
   "id": "20816d32-ef75-4200-a509-ac815f8e2f50",
   "metadata": {
    "tags": []
   },
   "outputs": [],
   "source": [
    "ut.experiment_ecg('https://raw.githubusercontent.com/vlivashkin/community-graphs/master/gml_graphs/eurosis.gml',ens_size=ens_size, nb_run=nb_run, directed=False)"
   ]
  },
  {
   "cell_type": "code",
   "execution_count": null,
   "id": "163ecfae-321d-4f1e-a61e-6da3582afff1",
   "metadata": {
    "tags": []
   },
   "outputs": [],
   "source": [
    "ut.experiment_ecg('https://raw.githubusercontent.com/vlivashkin/community-graphs/master/gml_graphs/eurosis.gml', ens_size=ens_size, nb_run=nb_run, directed=True)"
   ]
  },
  {
   "cell_type": "code",
   "execution_count": null,
   "id": "945416a1-f09b-42ea-8695-7ec0b398987e",
   "metadata": {
    "tags": []
   },
   "outputs": [],
   "source": [
    "ut.compare_louvain('https://raw.githubusercontent.com/vlivashkin/community-graphs/master/gml_graphs/eurosis.gml')"
   ]
  },
  {
   "cell_type": "code",
   "execution_count": null,
   "id": "859cb61e-f321-4b53-b738-82e91bc49f8d",
   "metadata": {},
   "outputs": [],
   "source": []
  },
  {
   "cell_type": "code",
   "execution_count": null,
   "id": "34a61902-3ff5-4dc1-b55a-d8a53a2801ab",
   "metadata": {},
   "outputs": [],
   "source": []
  }
 ],
 "metadata": {
  "kernelspec": {
   "display_name": "py39",
   "language": "python",
   "name": "py39"
  },
  "language_info": {
   "codemirror_mode": {
    "name": "ipython",
    "version": 3
   },
   "file_extension": ".py",
   "mimetype": "text/x-python",
   "name": "python",
   "nbconvert_exporter": "python",
   "pygments_lexer": "ipython3",
   "version": "3.9.12"
  }
 },
 "nbformat": 4,
 "nbformat_minor": 5
}
