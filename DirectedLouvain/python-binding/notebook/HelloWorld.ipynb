{
 "cells": [
  {
   "cell_type": "code",
   "execution_count": 4,
   "id": "c32f62b6-dc27-4b42-8035-ba3f1a84a05f",
   "metadata": {},
   "outputs": [
    {
     "name": "stderr",
     "output_type": "stream",
     "text": [
      "renumbering graph...\n",
      "18291\n",
      "initializing graph...\n",
      "number of nodes: 18291\n",
      "number of arcs: 24338\n",
      "total weight: 31919\n",
      "done.\n"
     ]
    }
   ],
   "source": [
    "import directedlouvain as dl\n",
    "dl_obj=dl.Community(\"../../graph/graph.txt\", weighted=True)"
   ]
  },
  {
   "cell_type": "code",
   "execution_count": 5,
   "id": "bd564d9b-370b-4846-84a5-e803cad68e52",
   "metadata": {},
   "outputs": [
    {
     "name": "stderr",
     "output_type": "stream",
     "text": [
      "level 0:\n",
      "  network size: 18291 nodes, 24338 arcs, 31919 weight.\n",
      "  modularity increased from -0.000726243 to 0.739213\n",
      "level 1:\n",
      "  network size: 552 nodes, 4091 arcs, 31919 weight.\n",
      "  modularity increased from 0.739213 to 0.821119\n",
      "level 2:\n",
      "  network size: 104 nodes, 1337 arcs, 31919 weight.\n",
      "  modularity increased from 0.821119 to 0.825515\n",
      "level 3:\n",
      "  network size: 72 nodes, 1012 arcs, 31919 weight.\n",
      "  modularity increased from 0.825515 to 0.825517\n",
      "level 4:\n",
      "  network size: 71 nodes, 1005 arcs, 31919 weight.\n",
      "  modularity increased from 0.825517 to 0.825517\n"
     ]
    }
   ],
   "source": [
    "import contextlib\n",
    "output=open(\"logcom\", \"w\")\n",
    "with contextlib.redirect_stdout(output):\n",
    "    dl_obj.run(verbose=True)\n",
    "output.close()"
   ]
  },
  {
   "cell_type": "code",
   "execution_count": 6,
   "id": "3f92714a-e3b7-4d03-8b8c-c30970e403eb",
   "metadata": {
    "tags": []
   },
   "outputs": [],
   "source": [
    "output=open(\"logcomlevel2\", \"w\")\n",
    "with contextlib.redirect_stdout(output):\n",
    "    dl_obj.print_level(2)\n",
    "output.close()"
   ]
  },
  {
   "cell_type": "code",
   "execution_count": null,
   "id": "5781e135-ccdd-4d7f-aa65-2d089c091028",
   "metadata": {},
   "outputs": [],
   "source": []
  }
 ],
 "metadata": {
  "kernelspec": {
   "display_name": "py39",
   "language": "python",
   "name": "py39"
  },
  "language_info": {
   "codemirror_mode": {
    "name": "ipython",
    "version": 3
   },
   "file_extension": ".py",
   "mimetype": "text/x-python",
   "name": "python",
   "nbconvert_exporter": "python",
   "pygments_lexer": "ipython3",
   "version": "3.9.12"
  }
 },
 "nbformat": 4,
 "nbformat_minor": 5
}
